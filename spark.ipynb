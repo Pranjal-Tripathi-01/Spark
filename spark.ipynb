{
 "cells": [
  {
   "cell_type": "code",
   "execution_count": 1,
   "id": "a5ed4e3b",
   "metadata": {},
   "outputs": [],
   "source": [
    "from pyspark.sql import SparkSession\n",
    "from urllib.parse import quote_plus\n",
    "from pymongo.mongo_client import MongoClient\n",
    "from pymongo.server_api import ServerApi"
   ]
  },
  {
   "cell_type": "markdown",
   "id": "f69ff24f",
   "metadata": {},
   "source": [
    "### Creating MongoDB Atlas config and Spark session"
   ]
  },
  {
   "cell_type": "code",
   "execution_count": 2,
   "id": "018ad592",
   "metadata": {},
   "outputs": [],
   "source": [
    "username = quote_plus('pranjal_tripathi')\n",
    "password = quote_plus('Pranjal_01')\n",
    "cluster = 'spark-project.9yp16zi.mongodb.net'\n",
    "\n",
    "uri = 'mongodb+srv://' + username + ':' + password + '@' + cluster + '/?retryWrites=true&w=majority'\n",
    "\n",
    "client = MongoClient(uri, server_api=ServerApi('1'))"
   ]
  },
  {
   "cell_type": "code",
   "execution_count": 3,
   "id": "23c9c87d",
   "metadata": {},
   "outputs": [
    {
     "name": "stdout",
     "output_type": "stream",
     "text": [
      ":: loading settings :: url = jar:file:/home/pranjal/anaconda3/lib/python3.9/site-packages/pyspark/jars/ivy-2.5.1.jar!/org/apache/ivy/core/settings/ivysettings.xml\n"
     ]
    },
    {
     "name": "stderr",
     "output_type": "stream",
     "text": [
      "Ivy Default Cache set to: /home/pranjal/.ivy2/cache\n",
      "The jars for the packages stored in: /home/pranjal/.ivy2/jars\n",
      "org.mongodb.spark#mongo-spark-connector_2.12 added as a dependency\n",
      ":: resolving dependencies :: org.apache.spark#spark-submit-parent-e8a32b3b-687b-42d5-a771-e41bedf89ffd;1.0\n",
      "\tconfs: [default]\n",
      "\tfound org.mongodb.spark#mongo-spark-connector_2.12;3.0.1 in central\n",
      "\tfound org.mongodb#mongodb-driver-sync;4.0.5 in central\n",
      "\tfound org.mongodb#bson;4.0.5 in central\n",
      "\tfound org.mongodb#mongodb-driver-core;4.0.5 in central\n",
      ":: resolution report :: resolve 162ms :: artifacts dl 9ms\n",
      "\t:: modules in use:\n",
      "\torg.mongodb#bson;4.0.5 from central in [default]\n",
      "\torg.mongodb#mongodb-driver-core;4.0.5 from central in [default]\n",
      "\torg.mongodb#mongodb-driver-sync;4.0.5 from central in [default]\n",
      "\torg.mongodb.spark#mongo-spark-connector_2.12;3.0.1 from central in [default]\n",
      "\t---------------------------------------------------------------------\n",
      "\t|                  |            modules            ||   artifacts   |\n",
      "\t|       conf       | number| search|dwnlded|evicted|| number|dwnlded|\n",
      "\t---------------------------------------------------------------------\n",
      "\t|      default     |   4   |   0   |   0   |   0   ||   4   |   0   |\n",
      "\t---------------------------------------------------------------------\n",
      ":: retrieving :: org.apache.spark#spark-submit-parent-e8a32b3b-687b-42d5-a771-e41bedf89ffd\n",
      "\tconfs: [default]\n",
      "\t0 artifacts copied, 4 already retrieved (0kB/7ms)\n",
      "23/05/24 23:08:15 WARN NativeCodeLoader: Unable to load native-hadoop library for your platform... using builtin-java classes where applicable\n",
      "Setting default log level to \"WARN\".\n",
      "To adjust logging level use sc.setLogLevel(newLevel). For SparkR, use setLogLevel(newLevel).\n"
     ]
    }
   ],
   "source": [
    "spark = SparkSession.builder \\\n",
    "    .appName(\"MongoDB Atlas to Spark\") \\\n",
    "    .config(\"spark.mongodb.input.uri\", uri) \\\n",
    "    .config(\"spark.jars.packages\",  \"org.mongodb.spark:mongo-spark-connector_2.12:3.0.1\") \\\n",
    "    .getOrCreate()"
   ]
  },
  {
   "cell_type": "code",
   "execution_count": 4,
   "id": "1670dbf0",
   "metadata": {},
   "outputs": [
    {
     "data": {
      "text/html": [
       "\n",
       "            <div>\n",
       "                <p><b>SparkSession - in-memory</b></p>\n",
       "                \n",
       "        <div>\n",
       "            <p><b>SparkContext</b></p>\n",
       "\n",
       "            <p><a href=\"http://pranjal:4040\">Spark UI</a></p>\n",
       "\n",
       "            <dl>\n",
       "              <dt>Version</dt>\n",
       "                <dd><code>v3.4.0</code></dd>\n",
       "              <dt>Master</dt>\n",
       "                <dd><code>local[*]</code></dd>\n",
       "              <dt>AppName</dt>\n",
       "                <dd><code>MongoDB Atlas to Spark</code></dd>\n",
       "            </dl>\n",
       "        </div>\n",
       "        \n",
       "            </div>\n",
       "        "
      ],
      "text/plain": [
       "<pyspark.sql.session.SparkSession at 0x7fae3b9b9790>"
      ]
     },
     "execution_count": 4,
     "metadata": {},
     "output_type": "execute_result"
    }
   ],
   "source": [
    "spark"
   ]
  },
  {
   "cell_type": "markdown",
   "id": "e2d802bb",
   "metadata": {},
   "source": [
    "### Reading data from MongoDB Atlas into Spark dataframe"
   ]
  },
  {
   "cell_type": "code",
   "execution_count": 5,
   "id": "d0d9aa78",
   "metadata": {},
   "outputs": [
    {
     "name": "stderr",
     "output_type": "stream",
     "text": [
      "                                                                                \r"
     ]
    }
   ],
   "source": [
    "case_df= spark.read.format(\"com.mongodb.spark.sql\").option(\"collection\", \"case\").option(\"database\", \"spark_project\").load()"
   ]
  },
  {
   "cell_type": "code",
   "execution_count": 6,
   "id": "bb22757a",
   "metadata": {
    "scrolled": true
   },
   "outputs": [
    {
     "name": "stderr",
     "output_type": "stream",
     "text": [
      "                                                                                \r"
     ]
    }
   ],
   "source": [
    "region_df= spark.read.format(\"com.mongodb.spark.sql\").option(\"collection\", \"region\").option(\"database\", \"spark_project\").load()"
   ]
  },
  {
   "cell_type": "code",
   "execution_count": 7,
   "id": "6388382e",
   "metadata": {},
   "outputs": [],
   "source": [
    "time_province_df= spark.read.format(\"com.mongodb.spark.sql\").option(\"collection\", \"time_province\").option(\"database\", \"spark_project\").load()"
   ]
  },
  {
   "cell_type": "markdown",
   "id": "cdb62382",
   "metadata": {},
   "source": [
    "### Spark Analysis"
   ]
  },
  {
   "cell_type": "code",
   "execution_count": 8,
   "id": "de66c5c6",
   "metadata": {},
   "outputs": [
    {
     "data": {
      "text/plain": [
       "DataFrame[summary: string,  case_id: string, city: string, confirmed: string, infection_case: string, latitude: string, longitude: string, province: string]"
      ]
     },
     "execution_count": 8,
     "metadata": {},
     "output_type": "execute_result"
    }
   ],
   "source": [
    "case_df.describe()"
   ]
  },
  {
   "cell_type": "code",
   "execution_count": 9,
   "id": "986fabd7",
   "metadata": {},
   "outputs": [
    {
     "name": "stdout",
     "output_type": "stream",
     "text": [
      "root\n",
      " |--  case_id: integer (nullable = true)\n",
      " |-- _id: struct (nullable = true)\n",
      " |    |-- oid: string (nullable = true)\n",
      " |-- city: string (nullable = true)\n",
      " |-- confirmed: integer (nullable = true)\n",
      " |-- group: boolean (nullable = true)\n",
      " |-- infection_case: string (nullable = true)\n",
      " |-- latitude: string (nullable = true)\n",
      " |-- longitude: string (nullable = true)\n",
      " |-- province: string (nullable = true)\n",
      "\n"
     ]
    }
   ],
   "source": [
    "case_df.printSchema()"
   ]
  },
  {
   "cell_type": "code",
   "execution_count": 10,
   "id": "d7643127",
   "metadata": {},
   "outputs": [
    {
     "name": "stderr",
     "output_type": "stream",
     "text": [
      "[Stage 3:>                                                          (0 + 1) / 1]\r"
     ]
    },
    {
     "name": "stdout",
     "output_type": "stream",
     "text": [
      "+--------+--------------------+---------------+---------+-----+--------------------+---------+----------+--------+\n",
      "| case_id|                 _id|           city|confirmed|group|      infection_case| latitude| longitude|province|\n",
      "+--------+--------------------+---------------+---------+-----+--------------------+---------+----------+--------+\n",
      "|    null|{64567cdd4106c4df...|        Guro-gu|       95| true| Guro-gu Call Center|37.508163|126.884387|   Seoul|\n",
      "|    null|{64567cdf4106c4df...|   Yangcheon-gu|       43| true|Yangcheon Table T...|37.546061|126.874209|   Seoul|\n",
      "|    null|{64567ce04106c4df...|      Dobong-gu|       43| true|     Day Care Center|37.679422|127.044374|   Seoul|\n",
      "|    null|{64567ce04106c4df...|        Guro-gu|       41| true|Manmin Central Ch...|37.481059|126.894343|   Seoul|\n",
      "|    null|{64567ce04106c4df...|from other city|       36| true|SMR Newly Planted...|        -|         -|   Seoul|\n",
      "|    null|{64567ce04106c4df...|  Dongdaemun-gu|       17| true|       Dongan Church|37.592888|127.056766|   Seoul|\n",
      "|    null|{64567ce14106c4df...|from other city|       25| true|Coupang Logistics...|        -|         -|   Seoul|\n",
      "|    null|{64567ce14106c4df...|      Gwanak-gu|       30| true|     Wangsung Church|37.481735|126.930121|   Seoul|\n",
      "|    null|{64567ce14106c4df...|   Eunpyeong-gu|       14| true|Eunpyeong St. Mar...| 37.63369|  126.9165|   Seoul|\n",
      "|    null|{64567ce14106c4df...|   Seongdong-gu|       13| true|    Seongdong-gu APT| 37.55713|  127.0403|   Seoul|\n",
      "+--------+--------------------+---------------+---------+-----+--------------------+---------+----------+--------+\n",
      "\n"
     ]
    },
    {
     "name": "stderr",
     "output_type": "stream",
     "text": [
      "                                                                                \r"
     ]
    }
   ],
   "source": [
    "case_df.limit(10).show()"
   ]
  },
  {
   "cell_type": "code",
   "execution_count": 11,
   "id": "f809f93c",
   "metadata": {},
   "outputs": [
    {
     "name": "stderr",
     "output_type": "stream",
     "text": [
      "                                                                                \r"
     ]
    },
    {
     "data": {
      "text/plain": [
       "1041"
      ]
     },
     "execution_count": 11,
     "metadata": {},
     "output_type": "execute_result"
    }
   ],
   "source": [
    "case_df.count()"
   ]
  },
  {
   "cell_type": "code",
   "execution_count": 12,
   "id": "06796066",
   "metadata": {},
   "outputs": [
    {
     "name": "stderr",
     "output_type": "stream",
     "text": [
      "                                                                                \r"
     ]
    },
    {
     "data": {
      "text/plain": [
       "522"
      ]
     },
     "execution_count": 12,
     "metadata": {},
     "output_type": "execute_result"
    }
   ],
   "source": [
    "case_df.na.drop().count()"
   ]
  },
  {
   "cell_type": "code",
   "execution_count": 13,
   "id": "0779f2b3",
   "metadata": {},
   "outputs": [
    {
     "name": "stdout",
     "output_type": "stream",
     "text": [
      "+--------+--------------------+---------------+---------+-----+--------------------+---------+----------+--------+\n",
      "| case_id|                  id|           city|confirmed|group|      infection_case| latitude| longitude|province|\n",
      "+--------+--------------------+---------------+---------+-----+--------------------+---------+----------+--------+\n",
      "|    null|{64567cdd4106c4df...|        Guro-gu|       95| true| Guro-gu Call Center|37.508163|126.884387|   Seoul|\n",
      "|    null|{64567cdf4106c4df...|   Yangcheon-gu|       43| true|Yangcheon Table T...|37.546061|126.874209|   Seoul|\n",
      "|    null|{64567ce04106c4df...|      Dobong-gu|       43| true|     Day Care Center|37.679422|127.044374|   Seoul|\n",
      "|    null|{64567ce04106c4df...|        Guro-gu|       41| true|Manmin Central Ch...|37.481059|126.894343|   Seoul|\n",
      "|    null|{64567ce04106c4df...|from other city|       36| true|SMR Newly Planted...|        -|         -|   Seoul|\n",
      "+--------+--------------------+---------------+---------+-----+--------------------+---------+----------+--------+\n",
      "\n"
     ]
    },
    {
     "name": "stderr",
     "output_type": "stream",
     "text": [
      "                                                                                \r"
     ]
    }
   ],
   "source": [
    "case_df.withColumnRenamed('_id', 'id').limit(5).show()"
   ]
  },
  {
   "cell_type": "code",
   "execution_count": 14,
   "id": "44b737d0",
   "metadata": {},
   "outputs": [
    {
     "name": "stderr",
     "output_type": "stream",
     "text": [
      "                                                                                \r"
     ]
    },
    {
     "data": {
      "text/plain": [
       "522"
      ]
     },
     "execution_count": 14,
     "metadata": {},
     "output_type": "execute_result"
    }
   ],
   "source": [
    "case_df1= case_df.na.drop()\n",
    "case_df1.count()"
   ]
  },
  {
   "cell_type": "code",
   "execution_count": 15,
   "id": "e2994a29",
   "metadata": {},
   "outputs": [
    {
     "name": "stdout",
     "output_type": "stream",
     "text": [
      "+--------------------+---------+---------+--------------------+\n",
      "|                 _id|     city|confirmed|      infection_case|\n",
      "+--------------------+---------+---------+--------------------+\n",
      "|{64567d0d4106c4df...|Jongno-gu|        7|Korea Campus Crus...|\n",
      "|{64567d8c4106c4df...|Jongno-gu|        7|Korea Campus Crus...|\n",
      "|{64567db74106c4df...|Jongno-gu|        7|Korea Campus Crus...|\n",
      "|{64567d0c4106c4df...|Jongno-gu|       10|Jongno Community ...|\n",
      "|{64567d8b4106c4df...|Jongno-gu|       10|Jongno Community ...|\n",
      "|{64567db64106c4df...|Jongno-gu|       10|Jongno Community ...|\n",
      "+--------------------+---------+---------+--------------------+\n",
      "\n"
     ]
    }
   ],
   "source": [
    "case_df1.filter((case_df1.confirmed < 50) & (case_df1.city=='Jongno-gu')).select(case_df1._id, case_df1.city, case_df1.confirmed, case_df1.infection_case).orderBy(case_df1.confirmed.asc()).show()"
   ]
  },
  {
   "cell_type": "code",
   "execution_count": 16,
   "id": "16edd611",
   "metadata": {},
   "outputs": [
    {
     "name": "stderr",
     "output_type": "stream",
     "text": [
      "[Stage 15:>                                                         (0 + 1) / 1]\r"
     ]
    },
    {
     "name": "stdout",
     "output_type": "stream",
     "text": [
      "+-----------------+--------------+\n",
      "|         province|sum(confirmed)|\n",
      "+-----------------+--------------+\n",
      "|           Sejong|           147|\n",
      "|            Ulsan|           153|\n",
      "|Chungcheongbuk-do|           180|\n",
      "|       Gangwon-do|           186|\n",
      "|          Gwangju|           129|\n",
      "| Gyeongsangbuk-do|          3972|\n",
      "|            Daegu|         20040|\n",
      "| Gyeongsangnam-do|           396|\n",
      "|          Incheon|           606|\n",
      "|          Jeju-do|            57|\n",
      "|      Gyeonggi-do|          3000|\n",
      "|            Busan|           468|\n",
      "|          Daejeon|           393|\n",
      "|            Seoul|          3840|\n",
      "|Chungcheongnam-do|           474|\n",
      "|     Jeollabuk-do|            69|\n",
      "|     Jeollanam-do|            75|\n",
      "+-----------------+--------------+\n",
      "\n"
     ]
    },
    {
     "name": "stderr",
     "output_type": "stream",
     "text": [
      "                                                                                \r"
     ]
    }
   ],
   "source": [
    "case_df1.groupBy(case_df1.province).agg({'confirmed':'sum'}).show()"
   ]
  },
  {
   "cell_type": "code",
   "execution_count": 17,
   "id": "7ef09248",
   "metadata": {},
   "outputs": [
    {
     "data": {
      "text/plain": [
       "DataFrame[summary: string, academy_ratio: string, city: string, code: string, elderly_alone_ratio: string, elderly_population_ratio: string, elementary_school_count: string, kindergarten_count: string, latitude: string, longitude: string, nursing_home_count: string, province: string, university_count: string]"
      ]
     },
     "execution_count": 17,
     "metadata": {},
     "output_type": "execute_result"
    }
   ],
   "source": [
    "region_df.describe()"
   ]
  },
  {
   "cell_type": "code",
   "execution_count": 18,
   "id": "1a98e47b",
   "metadata": {},
   "outputs": [
    {
     "name": "stdout",
     "output_type": "stream",
     "text": [
      "root\n",
      " |-- _id: struct (nullable = true)\n",
      " |    |-- oid: string (nullable = true)\n",
      " |-- academy_ratio: double (nullable = true)\n",
      " |-- city: string (nullable = true)\n",
      " |-- code: integer (nullable = true)\n",
      " |-- elderly_alone_ratio: double (nullable = true)\n",
      " |-- elderly_population_ratio: double (nullable = true)\n",
      " |-- elementary_school_count: integer (nullable = true)\n",
      " |-- kindergarten_count: integer (nullable = true)\n",
      " |-- latitude: double (nullable = true)\n",
      " |-- longitude: double (nullable = true)\n",
      " |-- nursing_home_count: integer (nullable = true)\n",
      " |-- province: string (nullable = true)\n",
      " |-- university_count: integer (nullable = true)\n",
      "\n"
     ]
    }
   ],
   "source": [
    "region_df.printSchema()"
   ]
  },
  {
   "cell_type": "code",
   "execution_count": 19,
   "id": "7ab445cd",
   "metadata": {},
   "outputs": [
    {
     "name": "stderr",
     "output_type": "stream",
     "text": [
      "                                                                                \r"
     ]
    },
    {
     "name": "stdout",
     "output_type": "stream",
     "text": [
      "+--------------------------+-------------+------------+-----+-------------------+------------------------+-----------------------+------------------+---------+----------+------------------+--------+----------------+\n",
      "|_id                       |academy_ratio|city        |code |elderly_alone_ratio|elderly_population_ratio|elementary_school_count|kindergarten_count|latitude |longitude |nursing_home_count|province|university_count|\n",
      "+--------------------------+-------------+------------+-----+-------------------+------------------------+-----------------------+------------------+---------+----------+------------------+--------+----------------+\n",
      "|{64577fbf9adfe5637a7927a6}|4.18         |Gangnam-gu  |10010|4.3                |13.17                   |33                     |38                |37.518421|127.047222|3088              |Seoul   |0               |\n",
      "|{64577fc19adfe5637a7927a7}|1.44         |Seoul       |10000|5.8                |15.38                   |607                    |830               |37.566953|126.977977|22739             |Seoul   |48              |\n",
      "|{64577fc19adfe5637a7927a8}|4.18         |Gangnam-gu  |10010|4.3                |13.17                   |33                     |38                |37.518421|127.047222|3088              |Seoul   |0               |\n",
      "|{64577fc19adfe5637a7927a9}|1.54         |Gangdong-gu |10020|5.4                |14.55                   |27                     |32                |37.530492|127.123837|1023              |Seoul   |0               |\n",
      "|{64577fc29adfe5637a7927aa}|0.67         |Gangbuk-gu  |10030|8.5                |19.49                   |14                     |21                |37.639938|127.025508|628               |Seoul   |0               |\n",
      "|{64577fc29adfe5637a7927ab}|1.17         |Gangseo-gu  |10040|5.7                |14.39                   |36                     |56                |37.551166|126.849506|1080              |Seoul   |1               |\n",
      "|{64577fc29adfe5637a7927ac}|0.89         |Gwanak-gu   |10050|4.9                |15.12                   |22                     |33                |37.47829 |126.951502|909               |Seoul   |1               |\n",
      "|{64577fc29adfe5637a7927ad}|1.16         |Gwangjin-gu |10060|4.8                |13.75                   |22                     |33                |37.538712|127.082366|723               |Seoul   |3               |\n",
      "|{64577fc39adfe5637a7927ae}|1.0          |Guro-gu     |10070|5.7                |16.21                   |26                     |34                |37.495632|126.88765 |741               |Seoul   |3               |\n",
      "|{64577fc39adfe5637a7927af}|0.96         |Geumcheon-gu|10080|6.7                |16.15                   |18                     |19                |37.456852|126.895229|475               |Seoul   |0               |\n",
      "+--------------------------+-------------+------------+-----+-------------------+------------------------+-----------------------+------------------+---------+----------+------------------+--------+----------------+\n",
      "\n"
     ]
    }
   ],
   "source": [
    "region_df.limit(10).show(truncate= False)"
   ]
  },
  {
   "cell_type": "code",
   "execution_count": 20,
   "id": "32e4bae6",
   "metadata": {},
   "outputs": [
    {
     "name": "stderr",
     "output_type": "stream",
     "text": [
      "                                                                                \r"
     ]
    },
    {
     "data": {
      "text/plain": [
       "732"
      ]
     },
     "execution_count": 20,
     "metadata": {},
     "output_type": "execute_result"
    }
   ],
   "source": [
    "region_df.count()"
   ]
  },
  {
   "cell_type": "code",
   "execution_count": 21,
   "id": "fbdaf2cc",
   "metadata": {},
   "outputs": [
    {
     "name": "stderr",
     "output_type": "stream",
     "text": [
      "                                                                                \r"
     ]
    },
    {
     "data": {
      "text/plain": [
       "732"
      ]
     },
     "execution_count": 21,
     "metadata": {},
     "output_type": "execute_result"
    }
   ],
   "source": [
    "region_df1= region_df.na.drop()\n",
    "region_df1.count()"
   ]
  },
  {
   "cell_type": "code",
   "execution_count": 22,
   "id": "d4aa7a4a",
   "metadata": {},
   "outputs": [
    {
     "name": "stdout",
     "output_type": "stream",
     "text": [
      "+-----------------+-----------------------------+\n",
      "|         province|avg(elderly_population_ratio)|\n",
      "+-----------------+-----------------------------+\n",
      "|           Sejong|                         9.48|\n",
      "|            Ulsan|           11.773333333333333|\n",
      "|Chungcheongbuk-do|           23.192500000000006|\n",
      "|       Gangwon-do|           22.890526315789472|\n",
      "|          Gwangju|           14.814999999999998|\n",
      "| Gyeongsangbuk-do|            27.55624999999999|\n",
      "|            Daegu|           17.031111111111116|\n",
      "| Gyeongsangnam-do|           24.749473684210535|\n",
      "|          Incheon|            16.39909090909091|\n",
      "|          Jeju-do|                         15.1|\n",
      "|      Gyeonggi-do|                   14.4296875|\n",
      "|            Busan|           19.357647058823527|\n",
      "|          Daejeon|           14.376666666666669|\n",
      "|            Seoul|            15.73807692307692|\n",
      "|Chungcheongnam-do|           23.844374999999996|\n",
      "|            Korea|                        15.67|\n",
      "|     Jeollabuk-do|           27.470666666666673|\n",
      "|     Jeollanam-do|           28.142173913043486|\n",
      "+-----------------+-----------------------------+\n",
      "\n"
     ]
    }
   ],
   "source": [
    "region_df1.groupBy(region_df1.province).agg({\"elderly_population_ratio\":\"avg\"}).show()"
   ]
  },
  {
   "cell_type": "code",
   "execution_count": 23,
   "id": "d9b22812",
   "metadata": {},
   "outputs": [
    {
     "name": "stderr",
     "output_type": "stream",
     "text": [
      "[Stage 28:>                                                         (0 + 1) / 1]\r"
     ]
    },
    {
     "name": "stdout",
     "output_type": "stream",
     "text": [
      "+--------------------+-----------+----------------+\n",
      "|                 _id|       city|university_count|\n",
      "+--------------------+-----------+----------------+\n",
      "|{64577ff19adfe563...|  Andong-si|               3|\n",
      "|{645780289adfe563...|  Andong-si|               3|\n",
      "|{645780609adfe563...|  Andong-si|               3|\n",
      "|{64577fd79adfe563...|   Ansan-si|               4|\n",
      "|{6457800e9adfe563...|   Ansan-si|               4|\n",
      "|{645780469adfe563...|   Ansan-si|               4|\n",
      "|{64577fd79adfe563...| Anseong-si|               3|\n",
      "|{6457800f9adfe563...| Anseong-si|               3|\n",
      "|{645780469adfe563...| Anseong-si|               3|\n",
      "|{64577fd79adfe563...|  Anyang-si|               4|\n",
      "|{6457800f9adfe563...|  Anyang-si|               4|\n",
      "|{645780469adfe563...|  Anyang-si|               4|\n",
      "|{64577fe49adfe563...|    Asan-si|               3|\n",
      "|{6457801c9adfe563...|    Asan-si|               3|\n",
      "|{645780539adfe563...|    Asan-si|               3|\n",
      "|{64577fe09adfe563...|  Boeun-gun|               0|\n",
      "|{645780179adfe563...|  Boeun-gun|               0|\n",
      "|{6457804f9adfe563...|  Boeun-gun|               0|\n",
      "|{64577ff09adfe563...|Bonghwa-gun|               0|\n",
      "|{645780289adfe563...|Bonghwa-gun|               0|\n",
      "+--------------------+-----------+----------------+\n",
      "only showing top 20 rows\n",
      "\n"
     ]
    },
    {
     "name": "stderr",
     "output_type": "stream",
     "text": [
      "                                                                                \r"
     ]
    }
   ],
   "source": [
    "region_df1.select(region_df1._id, region_df1.city, region_df1.university_count).orderBy(region_df1.city.asc(), region_df1.university_count.desc()).show()"
   ]
  },
  {
   "cell_type": "code",
   "execution_count": 24,
   "id": "a6a90785",
   "metadata": {},
   "outputs": [
    {
     "name": "stdout",
     "output_type": "stream",
     "text": [
      "root\n",
      " |-- _id: struct (nullable = true)\n",
      " |    |-- oid: string (nullable = true)\n",
      " |-- confirmed: integer (nullable = true)\n",
      " |-- date: string (nullable = true)\n",
      " |-- deceased: integer (nullable = true)\n",
      " |-- province: string (nullable = true)\n",
      " |-- released: integer (nullable = true)\n",
      " |-- time: integer (nullable = true)\n",
      "\n"
     ]
    }
   ],
   "source": [
    "time_province_df.printSchema()"
   ]
  },
  {
   "cell_type": "code",
   "execution_count": 25,
   "id": "92359c31",
   "metadata": {},
   "outputs": [
    {
     "name": "stderr",
     "output_type": "stream",
     "text": [
      "                                                                                \r"
     ]
    },
    {
     "data": {
      "text/plain": [
       "2771"
      ]
     },
     "execution_count": 25,
     "metadata": {},
     "output_type": "execute_result"
    }
   ],
   "source": [
    "time_province_df1= time_province_df.na.drop()\n",
    "time_province_df1.count()"
   ]
  },
  {
   "cell_type": "code",
   "execution_count": 26,
   "id": "d5efc98d",
   "metadata": {},
   "outputs": [
    {
     "name": "stdout",
     "output_type": "stream",
     "text": [
      "+--------------------+---------+----------+--------+--------+--------+----+\n",
      "|                 _id|confirmed|      date|deceased|province|released|time|\n",
      "+--------------------+---------+----------+--------+--------+--------+----+\n",
      "|{6457acab7924e510...|        0|2020-01-20|       0|   Seoul|       0|  16|\n",
      "|{6457acad7924e510...|        0|2020-01-20|       0|   Busan|       0|  16|\n",
      "|{6457acad7924e510...|        0|2020-01-20|       0|   Daegu|       0|  16|\n",
      "|{6457acad7924e510...|        1|2020-01-20|       0| Incheon|       0|  16|\n",
      "|{6457acae7924e510...|        0|2020-01-20|       0| Gwangju|       0|  16|\n",
      "+--------------------+---------+----------+--------+--------+--------+----+\n",
      "\n"
     ]
    }
   ],
   "source": [
    "time_province_df1.limit(5).show()"
   ]
  },
  {
   "cell_type": "code",
   "execution_count": 35,
   "id": "a62bb4c4",
   "metadata": {},
   "outputs": [
    {
     "name": "stderr",
     "output_type": "stream",
     "text": [
      "                                                                                \r"
     ]
    },
    {
     "name": "stdout",
     "output_type": "stream",
     "text": [
      "+--------------------+---------+----------+--------+--------+--------+----+-------------+----+----+-------------------+------------------------+-----------------------+------------------+--------+---------+------------------+--------+----------------+\n",
      "|                 _id|confirmed|      date|deceased|province|released|time|academy_ratio|city|code|elderly_alone_ratio|elderly_population_ratio|elementary_school_count|kindergarten_count|latitude|longitude|nursing_home_count|province|university_count|\n",
      "+--------------------+---------+----------+--------+--------+--------+----+-------------+----+----+-------------------+------------------------+-----------------------+------------------+--------+---------+------------------+--------+----------------+\n",
      "|{6457acb97924e510...|        0|2020-01-23|       0|   Seoul|       0|  16|         null|null|null|               null|                    null|                   null|              null|    null|     null|              null|    null|            null|\n",
      "|{6457acbd7924e510...|        0|2020-01-24|       0|   Seoul|       0|  16|         null|null|null|               null|                    null|                   null|              null|    null|     null|              null|    null|            null|\n",
      "|{6457acb17924e510...|        0|2020-01-21|       0|   Seoul|       0|  16|         null|null|null|               null|                    null|                   null|              null|    null|     null|              null|    null|            null|\n",
      "|{6457acd07924e510...|        1|2020-01-29|       0|   Seoul|       0|  16|         null|null|null|               null|                    null|                   null|              null|    null|     null|              null|    null|            null|\n",
      "|{6457acc87924e510...|        1|2020-01-27|       0|   Seoul|       0|  16|         null|null|null|               null|                    null|                   null|              null|    null|     null|              null|    null|            null|\n",
      "|{6457acc07924e510...|        0|2020-01-25|       0|   Seoul|       0|  16|         null|null|null|               null|                    null|                   null|              null|    null|     null|              null|    null|            null|\n",
      "|{6457acf77924e510...|       11|2020-02-08|       0|   Seoul|       1|  16|         null|null|null|               null|                    null|                   null|              null|    null|     null|              null|    null|            null|\n",
      "|{6457acb57924e510...|        0|2020-01-22|       0|   Seoul|       0|  16|         null|null|null|               null|                    null|                   null|              null|    null|     null|              null|    null|            null|\n",
      "|{6457acdb7924e510...|        4|2020-02-01|       0|   Seoul|       0|  16|         null|null|null|               null|                    null|                   null|              null|    null|     null|              null|    null|            null|\n",
      "|{6457acfa7924e510...|       14|2020-02-09|       0|   Seoul|       1|  16|         null|null|null|               null|                    null|                   null|              null|    null|     null|              null|    null|            null|\n",
      "|{6457acef7924e510...|       10|2020-02-06|       0|   Seoul|       1|  16|         null|null|null|               null|                    null|                   null|              null|    null|     null|              null|    null|            null|\n",
      "|{6457ace77924e510...|        5|2020-02-04|       0|   Seoul|       0|  16|         null|null|null|               null|                    null|                   null|              null|    null|     null|              null|    null|            null|\n",
      "|{6457acd87924e510...|        4|2020-01-31|       0|   Seoul|       0|  16|         null|null|null|               null|                    null|                   null|              null|    null|     null|              null|    null|            null|\n",
      "|{6457acf37924e510...|       11|2020-02-07|       0|   Seoul|       1|  16|         null|null|null|               null|                    null|                   null|              null|    null|     null|              null|    null|            null|\n",
      "|{6457acd47924e510...|        3|2020-01-30|       0|   Seoul|       0|  16|         null|null|null|               null|                    null|                   null|              null|    null|     null|              null|    null|            null|\n",
      "|{6457acc47924e510...|        0|2020-01-26|       0|   Seoul|       0|  16|         null|null|null|               null|                    null|                   null|              null|    null|     null|              null|    null|            null|\n",
      "|{6457acdf7924e510...|        5|2020-02-02|       0|   Seoul|       0|  16|         null|null|null|               null|                    null|                   null|              null|    null|     null|              null|    null|            null|\n",
      "|{6457aceb7924e510...|        5|2020-02-05|       0|   Seoul|       1|  16|         null|null|null|               null|                    null|                   null|              null|    null|     null|              null|    null|            null|\n",
      "|{6457accc7924e510...|        1|2020-01-28|       0|   Seoul|       0|  16|         null|null|null|               null|                    null|                   null|              null|    null|     null|              null|    null|            null|\n",
      "|{6457ace37924e510...|        5|2020-02-03|       0|   Seoul|       0|  16|         null|null|null|               null|                    null|                   null|              null|    null|     null|              null|    null|            null|\n",
      "+--------------------+---------+----------+--------+--------+--------+----+-------------+----+----+-------------------+------------------------+-----------------------+------------------+--------+---------+------------------+--------+----------------+\n",
      "only showing top 20 rows\n",
      "\n"
     ]
    }
   ],
   "source": [
    "time_province_df1.join(region_df1, on= '_id', how='left').where(time_province_df1.province== 'Seoul').show()"
   ]
  },
  {
   "cell_type": "code",
   "execution_count": 36,
   "id": "b32386f9",
   "metadata": {},
   "outputs": [],
   "source": [
    "from pyspark.sql.functions import udf\n",
    "from pyspark.sql.types import StringType\n",
    "\n",
    "def casehighlow(case):\n",
    "    if case < 50:\n",
    "        return \"low\"\n",
    "    else:\n",
    "        return \"high\"\n"
   ]
  },
  {
   "cell_type": "code",
   "execution_count": 38,
   "id": "40e269ec",
   "metadata": {},
   "outputs": [],
   "source": [
    "casehighlow_udf = udf(casehighlow, StringType())"
   ]
  },
  {
   "cell_type": "code",
   "execution_count": 39,
   "id": "8834937b",
   "metadata": {},
   "outputs": [
    {
     "name": "stderr",
     "output_type": "stream",
     "text": [
      "[Stage 87:>                                                         (0 + 1) / 1]\r"
     ]
    },
    {
     "name": "stdout",
     "output_type": "stream",
     "text": [
      "+--------+--------------------+---------------+---------+-----+--------------------+---------+----------+--------+------+\n",
      "| case_id|                 _id|           city|confirmed|group|      infection_case| latitude| longitude|province|result|\n",
      "+--------+--------------------+---------------+---------+-----+--------------------+---------+----------+--------+------+\n",
      "| 1000001|{64567d094106c4df...|     Yongsan-gu|      139| true|       Itaewon Clubs|37.538621|126.992652|   Seoul|  high|\n",
      "| 1000001|{64567d094106c4df...|     Yongsan-gu|      139| true|       Itaewon Clubs|37.538621|126.992652|   Seoul|  high|\n",
      "| 1000002|{64567d0a4106c4df...|      Gwanak-gu|      119| true|             Richway| 37.48208|126.901384|   Seoul|  high|\n",
      "| 1000003|{64567d0a4106c4df...|        Guro-gu|       95| true| Guro-gu Call Center|37.508163|126.884387|   Seoul|  high|\n",
      "| 1000004|{64567d0a4106c4df...|   Yangcheon-gu|       43| true|Yangcheon Table T...|37.546061|126.874209|   Seoul|   low|\n",
      "| 1000005|{64567d0a4106c4df...|      Dobong-gu|       43| true|     Day Care Center|37.679422|127.044374|   Seoul|   low|\n",
      "| 1000006|{64567d0a4106c4df...|        Guro-gu|       41| true|Manmin Central Ch...|37.481059|126.894343|   Seoul|   low|\n",
      "| 1000007|{64567d0b4106c4df...|from other city|       36| true|SMR Newly Planted...|        -|         -|   Seoul|   low|\n",
      "| 1000008|{64567d0b4106c4df...|  Dongdaemun-gu|       17| true|       Dongan Church|37.592888|127.056766|   Seoul|   low|\n",
      "| 1000009|{64567d0b4106c4df...|from other city|       25| true|Coupang Logistics...|        -|         -|   Seoul|   low|\n",
      "| 1000010|{64567d0b4106c4df...|      Gwanak-gu|       30| true|     Wangsung Church|37.481735|126.930121|   Seoul|   low|\n",
      "| 1000011|{64567d0c4106c4df...|   Eunpyeong-gu|       14| true|Eunpyeong St. Mar...| 37.63369|  126.9165|   Seoul|   low|\n",
      "| 1000012|{64567d0c4106c4df...|   Seongdong-gu|       13| true|    Seongdong-gu APT| 37.55713|  127.0403|   Seoul|   low|\n",
      "| 1000013|{64567d0c4106c4df...|      Jongno-gu|       10| true|Jongno Community ...| 37.57681|   127.006|   Seoul|   low|\n",
      "| 1000014|{64567d0c4106c4df...|     Gangnam-gu|        7| true|Samsung Medical C...| 37.48825| 127.08559|   Seoul|   low|\n",
      "| 1000015|{64567d0d4106c4df...|        Jung-gu|        7| true|Jung-gu Fashion C...|37.562405|126.984377|   Seoul|   low|\n",
      "| 1000016|{64567d0d4106c4df...|   Seodaemun-gu|        5| true|  Yeonana News Class|37.558147|126.943799|   Seoul|   low|\n",
      "| 1000017|{64567d0d4106c4df...|      Jongno-gu|        7| true|Korea Campus Crus...|37.594782|126.968022|   Seoul|   low|\n",
      "| 1000018|{64567d0d4106c4df...|     Gangnam-gu|        6| true|Gangnam Yeoksam-d...|        -|         -|   Seoul|   low|\n",
      "| 1000019|{64567d0e4106c4df...|from other city|        1| true|Daejeon door-to-d...|        -|         -|   Seoul|   low|\n",
      "+--------+--------------------+---------------+---------+-----+--------------------+---------+----------+--------+------+\n",
      "only showing top 20 rows\n",
      "\n"
     ]
    },
    {
     "name": "stderr",
     "output_type": "stream",
     "text": [
      "                                                                                \r"
     ]
    }
   ],
   "source": [
    "casehighlow_df = case_df1.withColumn(\"result\", casehighlow_udf(case_df1[\"confirmed\"])).show()"
   ]
  },
  {
   "cell_type": "code",
   "execution_count": null,
   "id": "2d43a7c5",
   "metadata": {},
   "outputs": [],
   "source": []
  }
 ],
 "metadata": {
  "kernelspec": {
   "display_name": "Python 3 (ipykernel)",
   "language": "python",
   "name": "python3"
  },
  "language_info": {
   "codemirror_mode": {
    "name": "ipython",
    "version": 3
   },
   "file_extension": ".py",
   "mimetype": "text/x-python",
   "name": "python",
   "nbconvert_exporter": "python",
   "pygments_lexer": "ipython3",
   "version": "3.9.13"
  }
 },
 "nbformat": 4,
 "nbformat_minor": 5
}
